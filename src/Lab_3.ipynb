{
 "cells": [
  {
   "cell_type": "code",
   "execution_count": null,
   "metadata": {},
   "outputs": [],
   "source": [
    "import numpy as np\n",
    "import pandas as pd\n",
    "from scipy import stats\n",
    "import yaml"
   ]
  },
  {
   "cell_type": "code",
   "execution_count": 110,
   "metadata": {},
   "outputs": [],
   "source": [
    "cfg = None\n",
    "with open('config.yaml', 'r') as config:\n",
    "    cfg = yaml.safe_load(config)[\"Lab_3\"]"
   ]
  },
  {
   "cell_type": "code",
   "execution_count": null,
   "metadata": {},
   "outputs": [],
   "source": [
    "def is_digit(string: str) -> bool:\n",
    "    if string.isdigit():\n",
    "       return True\n",
    "    else:\n",
    "        try:\n",
    "            float(string)\n",
    "            return True\n",
    "        except ValueError:\n",
    "            return False\n",
    "\n",
    "def split_by_spaces(line: str, not_used: list[int], sym_split: str = \" \", isDigit: bool = True) -> list[float]:\n",
    "    line: list[str] = line.split(sym_split)\n",
    "    line = [s.strip() for s in line.copy() if s != '' and (is_digit(s) if isDigit else True)]\n",
    "    line = [item for idx, item in enumerate(line) if idx not in not_used]\n",
    "    return [float(s) if isDigit else s for s in line]\n",
    "\n",
    "def load_dataset(path: str,\n",
    "                 columns: list[str],\n",
    "                 not_used: list[int] = [],\n",
    "                 sym_split: str = \" \",\n",
    "                 isDigit: bool = True\n",
    "                 ) -> pd.DataFrame:\n",
    "    \n",
    "    with open(path, 'r') as f:\n",
    "        lines = f.readlines()\n",
    "    data = [split_by_spaces(line, not_used, sym_split, isDigit) for line in lines]\n",
    "    df = pd.DataFrame(data, columns=columns)\n",
    "    \n",
    "    return df"
   ]
  },
  {
   "cell_type": "code",
   "execution_count": 112,
   "metadata": {},
   "outputs": [],
   "source": [
    "def analyze_weight(df,\n",
    "                   alpha = 0.05,\n",
    "                   critery = stats.kstest,\n",
    "                   args = [],\n",
    "                   kwargs = {}\n",
    "                   ):\n",
    "    # Точечные оценки среднего и стандартного отклонения\n",
    "    mean_df = np.mean(df)\n",
    "    std_df = np.std(df, ddof=1)  # ddof=1 для корректировки стандартного отклонения\n",
    "    \n",
    "    results = critery(df, *args, **kwargs)\n",
    "    stat, p_value = results.statistic, results.pvalue\n",
    "    n = len(df)\n",
    "    t_value = stats.t.ppf(1 - alpha / 2, n - 1)\n",
    "    \n",
    "    if alpha < p_value:\n",
    "    # Доверительный интервал для среднего\n",
    "        mean_ci = (mean_df - t_value * std_df / np.sqrt(n), mean_df + t_value * std_df / np.sqrt(n))\n",
    "    \n",
    "    # Доверительный интервал для стандартного отклонения\n",
    "        std_ci = ((n - 1) * std_df**2 / stats.chi2.ppf(1 - alpha / 2, n - 1),\n",
    "              (n - 1) * std_df**2 / stats.chi2.ppf(alpha / 2, n - 1))\n",
    "        \n",
    "    else:\n",
    "        mean_ci = None\n",
    "        std_ci = None\n",
    "    \n",
    "    results = {\n",
    "        \"statistic\": stat,\n",
    "        \"p_value\": p_value,\n",
    "        \"mean_ci\": mean_ci,\n",
    "        \"std_ci\": std_ci,\n",
    "    }\n",
    "    return results"
   ]
  },
  {
   "cell_type": "markdown",
   "metadata": {},
   "source": [
    "# Dataset \"Babyroom\""
   ]
  },
  {
   "cell_type": "code",
   "execution_count": 113,
   "metadata": {},
   "outputs": [],
   "source": [
    "columns = [\"Time of birth recorded on the 24-hour clock\",\n",
    "           \"Sex of the child\",\n",
    "           \"Birth weight in grams\",\n",
    "           \"Number of minutes after midnight of each birth\"]\n",
    "\n",
    "df = load_dataset(cfg['babyroom'], columns, not_used = [])\n",
    "\n",
    "df[\"Time of birth recorded on the 24-hour clock\"] = df[\"Time of birth recorded on the 24-hour clock\"] / 100"
   ]
  },
  {
   "cell_type": "markdown",
   "metadata": {},
   "source": [
    "## Гипотеза, что средний вес девочек такой же, как вес мальчиков"
   ]
  },
  {
   "cell_type": "code",
   "execution_count": 114,
   "metadata": {},
   "outputs": [
    {
     "name": "stdout",
     "output_type": "stream",
     "text": [
      "T-statistic(-1.5229), P-value(0.1353)\n"
     ]
    }
   ],
   "source": [
    "girls = df[df['Sex of the child'] == 1][\"Birth weight in grams\"]\n",
    "boys = df[df['Sex of the child'] == 2][\"Birth weight in grams\"]\n",
    "\n",
    "t, p_value = stats.ttest_ind(girls, boys)\n",
    "print(f\"T-statistic({t:.4f}), P-value({p_value:.4f})\")"
   ]
  },
  {
   "cell_type": "markdown",
   "metadata": {},
   "source": [
    "$p > 0.05$ => гипотеза верна"
   ]
  },
  {
   "cell_type": "markdown",
   "metadata": {},
   "source": [
    "## Гипотеза, что дисперсия веса девочек такая же, как и веса мальчиков"
   ]
  },
  {
   "cell_type": "code",
   "execution_count": 115,
   "metadata": {},
   "outputs": [
    {
     "name": "stdout",
     "output_type": "stream",
     "text": [
      "[Bartlett test]\n",
      "T-statistic(2.3191), P-value(0.1353)\n"
     ]
    }
   ],
   "source": [
    "print(\"[Bartlett test]\")\n",
    "\n",
    "stat, p = stats.f_oneway(girls, boys)\n",
    "print(f\"T-statistic({stat:.4f}), P-value({p:.4f})\")"
   ]
  },
  {
   "cell_type": "markdown",
   "metadata": {},
   "source": [
    "$p > 0.05$ => гипотеза верна"
   ]
  },
  {
   "cell_type": "markdown",
   "metadata": {},
   "source": [
    "# Dataset \"iris.txt\""
   ]
  },
  {
   "cell_type": "code",
   "execution_count": 116,
   "metadata": {},
   "outputs": [],
   "source": [
    "columns = [\"Sepal length\", \"Sepal width\", \"Petal length\", \"Petal width\", \"Class\"]\n",
    "\n",
    "df = load_dataset(cfg['iris'], columns, not_used = [], sym_split=\",\", isDigit=False)"
   ]
  },
  {
   "cell_type": "markdown",
   "metadata": {},
   "source": [
    "## Гипотезы о равенстве распределений характеристик цветков разных типов"
   ]
  },
  {
   "cell_type": "code",
   "execution_count": 117,
   "metadata": {},
   "outputs": [],
   "source": [
    "setosa = df[df['Class'] == 'Iris-setosa']\n",
    "versicolor = df[df['Class'] == 'Iris-versicolor']\n",
    "virginica = df[df['Class'] == 'Iris-virginica']"
   ]
  },
  {
   "cell_type": "code",
   "execution_count": 118,
   "metadata": {},
   "outputs": [
    {
     "name": "stdout",
     "output_type": "stream",
     "text": [
      "Sepal length: H-statistic(96.9374 ), P-value(0.0000)\n",
      "Sepal width : H-statistic(62.4946 ), P-value(0.0000)\n",
      "Petal length: H-statistic(130.4141), P-value(0.0000)\n",
      "Petal width : H-statistic(131.0934), P-value(0.0000)\n"
     ]
    }
   ],
   "source": [
    "for feature in ['Sepal length', 'Sepal width', 'Petal length', 'Petal width']:\n",
    "    stat, p_value = stats.kruskal(setosa[feature], versicolor[feature], virginica[feature])\n",
    "    print(f\"{feature:<12}: H-statistic({stat:<8.4f}), P-value({p_value:.4f})\")"
   ]
  },
  {
   "cell_type": "markdown",
   "metadata": {},
   "source": [
    "Все $p < 0.05$ => гипотеза не верна"
   ]
  },
  {
   "cell_type": "markdown",
   "metadata": {},
   "source": [
    "## Гипотезы о равенстве средних и дисперсий различных характеристик цветов разных типов"
   ]
  },
  {
   "cell_type": "code",
   "execution_count": 119,
   "metadata": {},
   "outputs": [],
   "source": [
    "columns = ['Sepal length', 'Sepal width', 'Petal length', 'Petal width']\n",
    "def checkMeanAndVar(flower1: pd.DataFrame, flower2: pd.DataFrame) -> dict[list]:\n",
    "    result = {\n",
    "        'mean(p-value)': [],\n",
    "        'var(p-value)': []\n",
    "    }\n",
    "    for column in columns:\n",
    "        t, p_value = stats.ttest_ind(flower1[column].astype(float), flower2[column].astype(float))\n",
    "        result['mean(p-value)'].append(p_value)\n",
    "        \n",
    "        t, p_value = stats.f_oneway(flower1[column].astype(float), flower2[column].astype(float))\n",
    "        result['var(p-value)'].append(p_value)\n",
    "    return result"
   ]
  },
  {
   "cell_type": "code",
   "execution_count": 120,
   "metadata": {},
   "outputs": [
    {
     "data": {
      "text/html": [
       "<div>\n",
       "<style scoped>\n",
       "    .dataframe tbody tr th:only-of-type {\n",
       "        vertical-align: middle;\n",
       "    }\n",
       "\n",
       "    .dataframe tbody tr th {\n",
       "        vertical-align: top;\n",
       "    }\n",
       "\n",
       "    .dataframe thead th {\n",
       "        text-align: right;\n",
       "    }\n",
       "</style>\n",
       "<table border=\"1\" class=\"dataframe\">\n",
       "  <thead>\n",
       "    <tr style=\"text-align: right;\">\n",
       "      <th></th>\n",
       "      <th>mean(p-value)</th>\n",
       "      <th>var(p-value)</th>\n",
       "    </tr>\n",
       "  </thead>\n",
       "  <tbody>\n",
       "    <tr>\n",
       "      <th>Sepal length</th>\n",
       "      <td>8.985235e-18</td>\n",
       "      <td>8.985235e-18</td>\n",
       "    </tr>\n",
       "    <tr>\n",
       "      <th>Sepal width</th>\n",
       "      <td>4.362239e-15</td>\n",
       "      <td>4.362239e-15</td>\n",
       "    </tr>\n",
       "    <tr>\n",
       "      <th>Petal length</th>\n",
       "      <td>5.717464e-62</td>\n",
       "      <td>5.717464e-62</td>\n",
       "    </tr>\n",
       "    <tr>\n",
       "      <th>Petal width</th>\n",
       "      <td>4.589081e-56</td>\n",
       "      <td>4.589081e-56</td>\n",
       "    </tr>\n",
       "  </tbody>\n",
       "</table>\n",
       "</div>"
      ],
      "text/plain": [
       "              mean(p-value)  var(p-value)\n",
       "Sepal length   8.985235e-18  8.985235e-18\n",
       "Sepal width    4.362239e-15  4.362239e-15\n",
       "Petal length   5.717464e-62  5.717464e-62\n",
       "Petal width    4.589081e-56  4.589081e-56"
      ]
     },
     "execution_count": 120,
     "metadata": {},
     "output_type": "execute_result"
    }
   ],
   "source": [
    "pd.DataFrame(checkMeanAndVar(setosa, versicolor), index=['Sepal length', 'Sepal width', 'Petal length', 'Petal width'])"
   ]
  },
  {
   "cell_type": "code",
   "execution_count": 121,
   "metadata": {},
   "outputs": [
    {
     "data": {
      "text/html": [
       "<div>\n",
       "<style scoped>\n",
       "    .dataframe tbody tr th:only-of-type {\n",
       "        vertical-align: middle;\n",
       "    }\n",
       "\n",
       "    .dataframe tbody tr th {\n",
       "        vertical-align: top;\n",
       "    }\n",
       "\n",
       "    .dataframe thead th {\n",
       "        text-align: right;\n",
       "    }\n",
       "</style>\n",
       "<table border=\"1\" class=\"dataframe\">\n",
       "  <thead>\n",
       "    <tr style=\"text-align: right;\">\n",
       "      <th></th>\n",
       "      <th>mean(p-value)</th>\n",
       "      <th>var(p-value)</th>\n",
       "    </tr>\n",
       "  </thead>\n",
       "  <tbody>\n",
       "    <tr>\n",
       "      <th>Sepal length</th>\n",
       "      <td>6.892546e-28</td>\n",
       "      <td>6.892546e-28</td>\n",
       "    </tr>\n",
       "    <tr>\n",
       "      <th>Sepal width</th>\n",
       "      <td>8.916634e-09</td>\n",
       "      <td>8.916634e-09</td>\n",
       "    </tr>\n",
       "    <tr>\n",
       "      <th>Petal length</th>\n",
       "      <td>1.564122e-71</td>\n",
       "      <td>1.564122e-71</td>\n",
       "    </tr>\n",
       "    <tr>\n",
       "      <th>Petal width</th>\n",
       "      <td>3.582720e-65</td>\n",
       "      <td>3.582720e-65</td>\n",
       "    </tr>\n",
       "  </tbody>\n",
       "</table>\n",
       "</div>"
      ],
      "text/plain": [
       "              mean(p-value)  var(p-value)\n",
       "Sepal length   6.892546e-28  6.892546e-28\n",
       "Sepal width    8.916634e-09  8.916634e-09\n",
       "Petal length   1.564122e-71  1.564122e-71\n",
       "Petal width    3.582720e-65  3.582720e-65"
      ]
     },
     "execution_count": 121,
     "metadata": {},
     "output_type": "execute_result"
    }
   ],
   "source": [
    "pd.DataFrame(checkMeanAndVar(setosa, virginica), index=['Sepal length', 'Sepal width', 'Petal length', 'Petal width'])"
   ]
  },
  {
   "cell_type": "code",
   "execution_count": 122,
   "metadata": {},
   "outputs": [
    {
     "data": {
      "text/html": [
       "<div>\n",
       "<style scoped>\n",
       "    .dataframe tbody tr th:only-of-type {\n",
       "        vertical-align: middle;\n",
       "    }\n",
       "\n",
       "    .dataframe tbody tr th {\n",
       "        vertical-align: top;\n",
       "    }\n",
       "\n",
       "    .dataframe thead th {\n",
       "        text-align: right;\n",
       "    }\n",
       "</style>\n",
       "<table border=\"1\" class=\"dataframe\">\n",
       "  <thead>\n",
       "    <tr style=\"text-align: right;\">\n",
       "      <th></th>\n",
       "      <th>mean(p-value)</th>\n",
       "      <th>var(p-value)</th>\n",
       "    </tr>\n",
       "  </thead>\n",
       "  <tbody>\n",
       "    <tr>\n",
       "      <th>Sepal length</th>\n",
       "      <td>1.724856e-07</td>\n",
       "      <td>1.724856e-07</td>\n",
       "    </tr>\n",
       "    <tr>\n",
       "      <th>Sepal width</th>\n",
       "      <td>1.819100e-03</td>\n",
       "      <td>1.819100e-03</td>\n",
       "    </tr>\n",
       "    <tr>\n",
       "      <th>Petal length</th>\n",
       "      <td>3.178820e-22</td>\n",
       "      <td>3.178820e-22</td>\n",
       "    </tr>\n",
       "    <tr>\n",
       "      <th>Petal width</th>\n",
       "      <td>2.230409e-26</td>\n",
       "      <td>2.230409e-26</td>\n",
       "    </tr>\n",
       "  </tbody>\n",
       "</table>\n",
       "</div>"
      ],
      "text/plain": [
       "              mean(p-value)  var(p-value)\n",
       "Sepal length   1.724856e-07  1.724856e-07\n",
       "Sepal width    1.819100e-03  1.819100e-03\n",
       "Petal length   3.178820e-22  3.178820e-22\n",
       "Petal width    2.230409e-26  2.230409e-26"
      ]
     },
     "execution_count": 122,
     "metadata": {},
     "output_type": "execute_result"
    }
   ],
   "source": [
    "pd.DataFrame(checkMeanAndVar(versicolor, virginica), index=['Sepal length', 'Sepal width', 'Petal length', 'Petal width'])"
   ]
  },
  {
   "cell_type": "markdown",
   "metadata": {},
   "source": [
    "Если сравнивать попарно, то ни для одной пары гипотеза не верна"
   ]
  },
  {
   "cell_type": "code",
   "execution_count": null,
   "metadata": {},
   "outputs": [
    {
     "name": "stdout",
     "output_type": "stream",
     "text": [
      "Sepal length: F-statistic(119.2645 ), P-value(0.0000)\n",
      "Sepal width : F-statistic(47.3645  ), P-value(0.0000)\n",
      "Petal length: F-statistic(1179.0343), P-value(0.0000)\n",
      "Petal width : F-statistic(959.3244 ), P-value(0.0000)\n",
      "\n",
      "Sepal length: W-statistic(6.3527   ), P-value(0.0023)\n",
      "Sepal width : W-statistic(0.6475   ), P-value(0.5248)\n",
      "Petal length: W-statistic(19.7201  ), P-value(0.0000)\n",
      "Petal width : W-statistic(19.4122  ), P-value(0.0000)\n"
     ]
    }
   ],
   "source": [
    "for feature in ['Sepal length', 'Sepal width', 'Pstats.f_oneway(setosa[feature].astype(float), versicolor[feature].astype(float), virginica[feature].astype(float))etal length', 'Petal width']:\n",
    "    stat, p = \n",
    "    print(f\"{feature:<12}: F-statistic({stat:<9.4f}), P-value({p:.4f})\")\n",
    "print()\n",
    "\n",
    "for feature in ['Sepal length', 'Sepal width', 'Petal length', 'Petal width']:\n",
    "    stat, p = stats.levene(setosa[feature].astype(float), versicolor[feature].astype(float), virginica[feature].astype(float))\n",
    "    print(f\"{feature:<12}: W-statistic({stat:<9.4f}), P-value({p:.4f})\")"
   ]
  },
  {
   "cell_type": "markdown",
   "metadata": {},
   "source": [
    "- Mean:\n",
    "    - Все: $p < 0.05$\n",
    "- Var:\n",
    "    - Sepal width: $p > 0.05$\n",
    "    - Остальные: $p < 0.05$"
   ]
  },
  {
   "cell_type": "markdown",
   "metadata": {},
   "source": [
    "# Dataset \"sugery.xlsx\""
   ]
  },
  {
   "cell_type": "code",
   "execution_count": 124,
   "metadata": {},
   "outputs": [
    {
     "data": {
      "text/html": [
       "<div>\n",
       "<style scoped>\n",
       "    .dataframe tbody tr th:only-of-type {\n",
       "        vertical-align: middle;\n",
       "    }\n",
       "\n",
       "    .dataframe tbody tr th {\n",
       "        vertical-align: top;\n",
       "    }\n",
       "\n",
       "    .dataframe thead th {\n",
       "        text-align: right;\n",
       "    }\n",
       "</style>\n",
       "<table border=\"1\" class=\"dataframe\">\n",
       "  <thead>\n",
       "    <tr style=\"text-align: right;\">\n",
       "      <th></th>\n",
       "      <th>V right before operation</th>\n",
       "      <th>V left before operation</th>\n",
       "      <th>V right after operation</th>\n",
       "      <th>V left after operation</th>\n",
       "    </tr>\n",
       "  </thead>\n",
       "  <tbody>\n",
       "    <tr>\n",
       "      <th>0</th>\n",
       "      <td>7.2</td>\n",
       "      <td>6.70</td>\n",
       "      <td>12.0</td>\n",
       "      <td>13.1</td>\n",
       "    </tr>\n",
       "    <tr>\n",
       "      <th>1</th>\n",
       "      <td>1.2</td>\n",
       "      <td>1.20</td>\n",
       "      <td>4.5</td>\n",
       "      <td>4.2</td>\n",
       "    </tr>\n",
       "    <tr>\n",
       "      <th>2</th>\n",
       "      <td>6.7</td>\n",
       "      <td>7.30</td>\n",
       "      <td>15.3</td>\n",
       "      <td>14.9</td>\n",
       "    </tr>\n",
       "    <tr>\n",
       "      <th>3</th>\n",
       "      <td>9.9</td>\n",
       "      <td>10.05</td>\n",
       "      <td>9.6</td>\n",
       "      <td>9.1</td>\n",
       "    </tr>\n",
       "    <tr>\n",
       "      <th>4</th>\n",
       "      <td>3.1</td>\n",
       "      <td>2.13</td>\n",
       "      <td>NaN</td>\n",
       "      <td>NaN</td>\n",
       "    </tr>\n",
       "  </tbody>\n",
       "</table>\n",
       "</div>"
      ],
      "text/plain": [
       "   V right before operation  V left before operation  V right after operation  \\\n",
       "0                       7.2                     6.70                     12.0   \n",
       "1                       1.2                     1.20                      4.5   \n",
       "2                       6.7                     7.30                     15.3   \n",
       "3                       9.9                    10.05                      9.6   \n",
       "4                       3.1                     2.13                      NaN   \n",
       "\n",
       "   V left after operation  \n",
       "0                    13.1  \n",
       "1                     4.2  \n",
       "2                    14.9  \n",
       "3                     9.1  \n",
       "4                     NaN  "
      ]
     },
     "execution_count": 124,
     "metadata": {},
     "output_type": "execute_result"
    }
   ],
   "source": [
    "df = pd.read_excel(\n",
    "    cfg[\"surgery\"],\n",
    "    names=[\n",
    "        \"V right before operation\",\n",
    "        \"V left before operation\",\n",
    "        \"V right after operation\",\n",
    "        \"V left after operation\",\n",
    "    ],\n",
    "    skiprows=1,\n",
    ")\n",
    "\n",
    "df.head()"
   ]
  },
  {
   "cell_type": "code",
   "execution_count": 125,
   "metadata": {},
   "outputs": [
    {
     "name": "stdout",
     "output_type": "stream",
     "text": [
      "70% P-value=0.275\n",
      "80% P-value=0.954\n"
     ]
    }
   ],
   "source": [
    "success = (df[\"V right before operation\"] < df[\"V right after operation\"]) & (\n",
    "    df[\"V left before operation\"] < df[\"V left after operation\"]\n",
    ")\n",
    "\n",
    "p7 = stats.binomtest(success.sum(), len(df), p=0.7, alternative=\"greater\").pvalue\n",
    "p8 = stats.binomtest(success.sum(), len(df), p=0.8, alternative=\"greater\").pvalue\n",
    "print(f\"70% P-value={round(p7, 3)}\")\n",
    "print(f\"80% P-value={round(p8, 3)}\")"
   ]
  },
  {
   "cell_type": "markdown",
   "metadata": {},
   "source": [
    "$p_{0.7} < 0.05 \\\\\n",
    "p_{0.8} > 0.05$\n",
    "\n",
    "**Вывод:** для 0.8 выполняется, для 0.7 - нет"
   ]
  },
  {
   "cell_type": "markdown",
   "metadata": {},
   "source": [
    "#  Датасет \"euroweight\""
   ]
  },
  {
   "cell_type": "code",
   "execution_count": 126,
   "metadata": {},
   "outputs": [],
   "source": [
    "columns = [\"weight\", \"batch\"]\n",
    "\n",
    "df = load_dataset(cfg['euroweight'], columns, not_used = [0], sym_split=\"\\t\")"
   ]
  },
  {
   "cell_type": "code",
   "execution_count": 127,
   "metadata": {},
   "outputs": [
    {
     "data": {
      "text/html": [
       "<div>\n",
       "<style scoped>\n",
       "    .dataframe tbody tr th:only-of-type {\n",
       "        vertical-align: middle;\n",
       "    }\n",
       "\n",
       "    .dataframe tbody tr th {\n",
       "        vertical-align: top;\n",
       "    }\n",
       "\n",
       "    .dataframe thead th {\n",
       "        text-align: right;\n",
       "    }\n",
       "</style>\n",
       "<table border=\"1\" class=\"dataframe\">\n",
       "  <thead>\n",
       "    <tr style=\"text-align: right;\">\n",
       "      <th></th>\n",
       "      <th>weight</th>\n",
       "      <th>batch</th>\n",
       "    </tr>\n",
       "  </thead>\n",
       "  <tbody>\n",
       "    <tr>\n",
       "      <th>0</th>\n",
       "      <td>7.512</td>\n",
       "      <td>1.0</td>\n",
       "    </tr>\n",
       "    <tr>\n",
       "      <th>1</th>\n",
       "      <td>7.502</td>\n",
       "      <td>1.0</td>\n",
       "    </tr>\n",
       "    <tr>\n",
       "      <th>2</th>\n",
       "      <td>7.461</td>\n",
       "      <td>1.0</td>\n",
       "    </tr>\n",
       "    <tr>\n",
       "      <th>3</th>\n",
       "      <td>7.562</td>\n",
       "      <td>1.0</td>\n",
       "    </tr>\n",
       "    <tr>\n",
       "      <th>4</th>\n",
       "      <td>7.528</td>\n",
       "      <td>1.0</td>\n",
       "    </tr>\n",
       "    <tr>\n",
       "      <th>5</th>\n",
       "      <td>7.459</td>\n",
       "      <td>1.0</td>\n",
       "    </tr>\n",
       "    <tr>\n",
       "      <th>6</th>\n",
       "      <td>7.518</td>\n",
       "      <td>1.0</td>\n",
       "    </tr>\n",
       "    <tr>\n",
       "      <th>7</th>\n",
       "      <td>7.537</td>\n",
       "      <td>1.0</td>\n",
       "    </tr>\n",
       "    <tr>\n",
       "      <th>8</th>\n",
       "      <td>7.517</td>\n",
       "      <td>1.0</td>\n",
       "    </tr>\n",
       "    <tr>\n",
       "      <th>9</th>\n",
       "      <td>7.605</td>\n",
       "      <td>1.0</td>\n",
       "    </tr>\n",
       "  </tbody>\n",
       "</table>\n",
       "</div>"
      ],
      "text/plain": [
       "   weight  batch\n",
       "0   7.512    1.0\n",
       "1   7.502    1.0\n",
       "2   7.461    1.0\n",
       "3   7.562    1.0\n",
       "4   7.528    1.0\n",
       "5   7.459    1.0\n",
       "6   7.518    1.0\n",
       "7   7.537    1.0\n",
       "8   7.517    1.0\n",
       "9   7.605    1.0"
      ]
     },
     "execution_count": 127,
     "metadata": {},
     "output_type": "execute_result"
    }
   ],
   "source": [
    "df.head(10)"
   ]
  },
  {
   "cell_type": "code",
   "execution_count": 138,
   "metadata": {},
   "outputs": [],
   "source": [
    "columns = ['weight']\n",
    "def checkMeanAndVar(batch1: pd.DataFrame, batch2: pd.DataFrame) -> float:\n",
    "    t, p_value = stats.ttest_ind(batch1['weight'].astype(float), batch2['weight'].astype(float))\n",
    "    return p_value"
   ]
  },
  {
   "cell_type": "code",
   "execution_count": 148,
   "metadata": {},
   "outputs": [
    {
     "data": {
      "text/html": [
       "<div>\n",
       "<style scoped>\n",
       "    .dataframe tbody tr th:only-of-type {\n",
       "        vertical-align: middle;\n",
       "    }\n",
       "\n",
       "    .dataframe tbody tr th {\n",
       "        vertical-align: top;\n",
       "    }\n",
       "\n",
       "    .dataframe thead th {\n",
       "        text-align: right;\n",
       "    }\n",
       "</style>\n",
       "<table border=\"1\" class=\"dataframe\">\n",
       "  <thead>\n",
       "    <tr style=\"text-align: right;\">\n",
       "      <th></th>\n",
       "      <th>1.0</th>\n",
       "      <th>2.0</th>\n",
       "      <th>3.0</th>\n",
       "      <th>4.0</th>\n",
       "      <th>5.0</th>\n",
       "      <th>6.0</th>\n",
       "      <th>7.0</th>\n",
       "      <th>8.0</th>\n",
       "    </tr>\n",
       "  </thead>\n",
       "  <tbody>\n",
       "    <tr>\n",
       "      <th>1.0</th>\n",
       "      <td>1.000000</td>\n",
       "      <td>0.261478</td>\n",
       "      <td>1.648508e-03</td>\n",
       "      <td>7.245319e-05</td>\n",
       "      <td>4.999385e-05</td>\n",
       "      <td>1.458601e-01</td>\n",
       "      <td>0.265323</td>\n",
       "      <td>0.356620</td>\n",
       "    </tr>\n",
       "    <tr>\n",
       "      <th>2.0</th>\n",
       "      <td>0.261478</td>\n",
       "      <td>1.000000</td>\n",
       "      <td>3.169999e-05</td>\n",
       "      <td>6.710010e-03</td>\n",
       "      <td>5.081426e-03</td>\n",
       "      <td>1.041696e-02</td>\n",
       "      <td>0.960464</td>\n",
       "      <td>0.045903</td>\n",
       "    </tr>\n",
       "    <tr>\n",
       "      <th>3.0</th>\n",
       "      <td>0.001649</td>\n",
       "      <td>0.000032</td>\n",
       "      <td>1.000000e+00</td>\n",
       "      <td>2.133669e-12</td>\n",
       "      <td>1.271319e-12</td>\n",
       "      <td>7.165642e-02</td>\n",
       "      <td>0.000021</td>\n",
       "      <td>0.028956</td>\n",
       "    </tr>\n",
       "    <tr>\n",
       "      <th>4.0</th>\n",
       "      <td>0.000072</td>\n",
       "      <td>0.006710</td>\n",
       "      <td>2.133669e-12</td>\n",
       "      <td>1.000000e+00</td>\n",
       "      <td>9.119880e-01</td>\n",
       "      <td>2.957552e-08</td>\n",
       "      <td>0.003985</td>\n",
       "      <td>0.000002</td>\n",
       "    </tr>\n",
       "    <tr>\n",
       "      <th>5.0</th>\n",
       "      <td>0.000050</td>\n",
       "      <td>0.005081</td>\n",
       "      <td>1.271319e-12</td>\n",
       "      <td>9.119880e-01</td>\n",
       "      <td>1.000000e+00</td>\n",
       "      <td>1.845503e-08</td>\n",
       "      <td>0.002948</td>\n",
       "      <td>0.000001</td>\n",
       "    </tr>\n",
       "    <tr>\n",
       "      <th>6.0</th>\n",
       "      <td>0.145860</td>\n",
       "      <td>0.010417</td>\n",
       "      <td>7.165642e-02</td>\n",
       "      <td>2.957552e-08</td>\n",
       "      <td>1.845503e-08</td>\n",
       "      <td>1.000000e+00</td>\n",
       "      <td>0.009122</td>\n",
       "      <td>0.632269</td>\n",
       "    </tr>\n",
       "    <tr>\n",
       "      <th>7.0</th>\n",
       "      <td>0.265323</td>\n",
       "      <td>0.960464</td>\n",
       "      <td>2.110993e-05</td>\n",
       "      <td>3.985016e-03</td>\n",
       "      <td>2.947951e-03</td>\n",
       "      <td>9.122232e-03</td>\n",
       "      <td>1.000000</td>\n",
       "      <td>0.043730</td>\n",
       "    </tr>\n",
       "    <tr>\n",
       "      <th>8.0</th>\n",
       "      <td>0.356620</td>\n",
       "      <td>0.045903</td>\n",
       "      <td>2.895594e-02</td>\n",
       "      <td>1.604472e-06</td>\n",
       "      <td>1.063086e-06</td>\n",
       "      <td>6.322690e-01</td>\n",
       "      <td>0.043730</td>\n",
       "      <td>1.000000</td>\n",
       "    </tr>\n",
       "  </tbody>\n",
       "</table>\n",
       "</div>"
      ],
      "text/plain": [
       "          1.0       2.0           3.0           4.0           5.0  \\\n",
       "1.0  1.000000  0.261478  1.648508e-03  7.245319e-05  4.999385e-05   \n",
       "2.0  0.261478  1.000000  3.169999e-05  6.710010e-03  5.081426e-03   \n",
       "3.0  0.001649  0.000032  1.000000e+00  2.133669e-12  1.271319e-12   \n",
       "4.0  0.000072  0.006710  2.133669e-12  1.000000e+00  9.119880e-01   \n",
       "5.0  0.000050  0.005081  1.271319e-12  9.119880e-01  1.000000e+00   \n",
       "6.0  0.145860  0.010417  7.165642e-02  2.957552e-08  1.845503e-08   \n",
       "7.0  0.265323  0.960464  2.110993e-05  3.985016e-03  2.947951e-03   \n",
       "8.0  0.356620  0.045903  2.895594e-02  1.604472e-06  1.063086e-06   \n",
       "\n",
       "              6.0       7.0       8.0  \n",
       "1.0  1.458601e-01  0.265323  0.356620  \n",
       "2.0  1.041696e-02  0.960464  0.045903  \n",
       "3.0  7.165642e-02  0.000021  0.028956  \n",
       "4.0  2.957552e-08  0.003985  0.000002  \n",
       "5.0  1.845503e-08  0.002948  0.000001  \n",
       "6.0  1.000000e+00  0.009122  0.632269  \n",
       "7.0  9.122232e-03  1.000000  0.043730  \n",
       "8.0  6.322690e-01  0.043730  1.000000  "
      ]
     },
     "execution_count": 148,
     "metadata": {},
     "output_type": "execute_result"
    }
   ],
   "source": [
    "batches = list(set(df[\"batch\"]))\n",
    "results = dict.fromkeys(batches)\n",
    "for batch1 in batches: \n",
    "    results[batch1] = dict.fromkeys(batches, None)\n",
    "    for batch2 in batches:\n",
    "        results[batch1][batch2] = checkMeanAndVar(df[df['batch'] == batch1], df[df['batch'] == batch2])\n",
    "        \n",
    "pd.DataFrame(results)"
   ]
  },
  {
   "cell_type": "code",
   "execution_count": 154,
   "metadata": {},
   "outputs": [
    {
     "name": "stdout",
     "output_type": "stream",
     "text": [
      "batches=(1.0, 2.0) p-value=0.2614778067901794\n",
      "batches=(1.0, 6.0) p-value=0.14586011949455843\n",
      "batches=(1.0, 7.0) p-value=0.26532250649811384\n",
      "batches=(1.0, 8.0) p-value=0.3566197335516895\n",
      "batches=(2.0, 7.0) p-value=0.9604636345373081\n",
      "batches=(3.0, 6.0) p-value=0.0716564177786466\n",
      "batches=(4.0, 5.0) p-value=0.9119879969281968\n",
      "batches=(6.0, 8.0) p-value=0.6322689805964352\n"
     ]
    }
   ],
   "source": [
    "printed = set()\n",
    "for batch1 in batches:\n",
    "    for batch2 in batches:\n",
    "        if results[batch1][batch2] > 0.05 and batch1 != batch2 and (batch2, batch1) not in printed:\n",
    "            printed.add((batch1, batch2))\n",
    "            print(f\"batches={(batch1, batch2)} p-value={results[batch1][batch2]}\")"
   ]
  },
  {
   "cell_type": "markdown",
   "metadata": {},
   "source": [
    "При попарном сравнении у номиналов выше можно считать одинаковое среднее"
   ]
  },
  {
   "cell_type": "code",
   "execution_count": null,
   "metadata": {},
   "outputs": [
    {
     "data": {
      "text/plain": [
       "F_onewayResult(statistic=np.float64(12.67221788627366), pvalue=np.float64(5.361761521220631e-16))"
      ]
     },
     "execution_count": 157,
     "metadata": {},
     "output_type": "execute_result"
    }
   ],
   "source": [
    "groups = [df[df['batch'] == batch]['weight'].values for batch in batches]\n",
    "stats.f_oneway(*groups)"
   ]
  },
  {
   "cell_type": "markdown",
   "metadata": {},
   "source": [
    "**Вывод:** средние различны"
   ]
  }
 ],
 "metadata": {
  "kernelspec": {
   "display_name": ".venv",
   "language": "python",
   "name": "python3"
  },
  "language_info": {
   "codemirror_mode": {
    "name": "ipython",
    "version": 3
   },
   "file_extension": ".py",
   "mimetype": "text/x-python",
   "name": "python",
   "nbconvert_exporter": "python",
   "pygments_lexer": "ipython3",
   "version": "3.12.3"
  }
 },
 "nbformat": 4,
 "nbformat_minor": 2
}
