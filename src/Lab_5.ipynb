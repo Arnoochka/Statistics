{
 "cells": [
  {
   "cell_type": "code",
   "execution_count": 1,
   "metadata": {},
   "outputs": [],
   "source": [
    "import numpy as np\n",
    "import pandas as pd\n",
    "import matplotlib.pyplot as plt\n",
    "import seaborn as sns\n",
    "import yaml\n",
    "import statsmodels.api as sm\n",
    "from sklearn.metrics import accuracy_score, confusion_matrix, classification_report, roc_curve, auc, mean_squared_error, r2_score\n",
    "from sklearn.model_selection import train_test_split\n",
    "from sklearn.linear_model import LogisticRegression\n",
    "from scipy.stats import chi2\n",
    "from sklearn.preprocessing import StandardScaler"
   ]
  },
  {
   "cell_type": "code",
   "execution_count": 2,
   "metadata": {},
   "outputs": [],
   "source": [
    "cfg = None\n",
    "with open('config.yaml', 'r') as config:\n",
    "    cfg = yaml.safe_load(config)[\"Lab_5\"]"
   ]
  },
  {
   "cell_type": "code",
   "execution_count": 3,
   "metadata": {},
   "outputs": [],
   "source": [
    "data = pd.read_excel(cfg[\"Doctor\"])"
   ]
  },
  {
   "cell_type": "code",
   "execution_count": 4,
   "metadata": {},
   "outputs": [
    {
     "name": "stdout",
     "output_type": "stream",
     "text": [
      "<class 'pandas.core.frame.DataFrame'>\n",
      "RangeIndex: 58 entries, 0 to 57\n",
      "Data columns (total 6 columns):\n",
      " #   Column  Non-Null Count  Dtype  \n",
      "---  ------  --------------  -----  \n",
      " 0   y       58 non-null     int64  \n",
      " 1   x1      58 non-null     int64  \n",
      " 2   x2      58 non-null     float64\n",
      " 3   x3      58 non-null     float64\n",
      " 4   x4      58 non-null     int64  \n",
      " 5   x5      58 non-null     float64\n",
      "dtypes: float64(3), int64(3)\n",
      "memory usage: 2.8 KB\n"
     ]
    }
   ],
   "source": [
    "data.info()"
   ]
  },
  {
   "cell_type": "code",
   "execution_count": 23,
   "metadata": {},
   "outputs": [
    {
     "data": {
      "text/html": [
       "<div>\n",
       "<style scoped>\n",
       "    .dataframe tbody tr th:only-of-type {\n",
       "        vertical-align: middle;\n",
       "    }\n",
       "\n",
       "    .dataframe tbody tr th {\n",
       "        vertical-align: top;\n",
       "    }\n",
       "\n",
       "    .dataframe thead th {\n",
       "        text-align: right;\n",
       "    }\n",
       "</style>\n",
       "<table border=\"1\" class=\"dataframe\">\n",
       "  <thead>\n",
       "    <tr style=\"text-align: right;\">\n",
       "      <th></th>\n",
       "      <th>y</th>\n",
       "      <th>x1</th>\n",
       "      <th>x2</th>\n",
       "      <th>x3</th>\n",
       "      <th>x4</th>\n",
       "      <th>x5</th>\n",
       "    </tr>\n",
       "  </thead>\n",
       "  <tbody>\n",
       "    <tr>\n",
       "      <th>0</th>\n",
       "      <td>0</td>\n",
       "      <td>14</td>\n",
       "      <td>4.30</td>\n",
       "      <td>1.00</td>\n",
       "      <td>2</td>\n",
       "      <td>3.72</td>\n",
       "    </tr>\n",
       "    <tr>\n",
       "      <th>1</th>\n",
       "      <td>0</td>\n",
       "      <td>12</td>\n",
       "      <td>11.54</td>\n",
       "      <td>8.49</td>\n",
       "      <td>3</td>\n",
       "      <td>40.28</td>\n",
       "    </tr>\n",
       "    <tr>\n",
       "      <th>2</th>\n",
       "      <td>0</td>\n",
       "      <td>14</td>\n",
       "      <td>5.84</td>\n",
       "      <td>2.47</td>\n",
       "      <td>3</td>\n",
       "      <td>56.00</td>\n",
       "    </tr>\n",
       "    <tr>\n",
       "      <th>3</th>\n",
       "      <td>1</td>\n",
       "      <td>11</td>\n",
       "      <td>14.70</td>\n",
       "      <td>6.60</td>\n",
       "      <td>1</td>\n",
       "      <td>57.41</td>\n",
       "    </tr>\n",
       "    <tr>\n",
       "      <th>4</th>\n",
       "      <td>0</td>\n",
       "      <td>21</td>\n",
       "      <td>5.10</td>\n",
       "      <td>3.48</td>\n",
       "      <td>1</td>\n",
       "      <td>83.00</td>\n",
       "    </tr>\n",
       "    <tr>\n",
       "      <th>5</th>\n",
       "      <td>0</td>\n",
       "      <td>12</td>\n",
       "      <td>6.14</td>\n",
       "      <td>3.09</td>\n",
       "      <td>1</td>\n",
       "      <td>62.57</td>\n",
       "    </tr>\n",
       "    <tr>\n",
       "      <th>6</th>\n",
       "      <td>1</td>\n",
       "      <td>17</td>\n",
       "      <td>5.05</td>\n",
       "      <td>1.14</td>\n",
       "      <td>3</td>\n",
       "      <td>22.16</td>\n",
       "    </tr>\n",
       "    <tr>\n",
       "      <th>7</th>\n",
       "      <td>1</td>\n",
       "      <td>12</td>\n",
       "      <td>11.30</td>\n",
       "      <td>8.85</td>\n",
       "      <td>1</td>\n",
       "      <td>12.00</td>\n",
       "    </tr>\n",
       "    <tr>\n",
       "      <th>8</th>\n",
       "      <td>0</td>\n",
       "      <td>14</td>\n",
       "      <td>3.30</td>\n",
       "      <td>1.20</td>\n",
       "      <td>3</td>\n",
       "      <td>110.00</td>\n",
       "    </tr>\n",
       "    <tr>\n",
       "      <th>9</th>\n",
       "      <td>1</td>\n",
       "      <td>19</td>\n",
       "      <td>6.60</td>\n",
       "      <td>4.30</td>\n",
       "      <td>1</td>\n",
       "      <td>2.96</td>\n",
       "    </tr>\n",
       "  </tbody>\n",
       "</table>\n",
       "</div>"
      ],
      "text/plain": [
       "   y  x1     x2    x3  x4      x5\n",
       "0  0  14   4.30  1.00   2    3.72\n",
       "1  0  12  11.54  8.49   3   40.28\n",
       "2  0  14   5.84  2.47   3   56.00\n",
       "3  1  11  14.70  6.60   1   57.41\n",
       "4  0  21   5.10  3.48   1   83.00\n",
       "5  0  12   6.14  3.09   1   62.57\n",
       "6  1  17   5.05  1.14   3   22.16\n",
       "7  1  12  11.30  8.85   1   12.00\n",
       "8  0  14   3.30  1.20   3  110.00\n",
       "9  1  19   6.60  4.30   1    2.96"
      ]
     },
     "execution_count": 23,
     "metadata": {},
     "output_type": "execute_result"
    }
   ],
   "source": [
    "data.head(10)"
   ]
  },
  {
   "cell_type": "code",
   "execution_count": 24,
   "metadata": {},
   "outputs": [
    {
     "data": {
      "text/html": [
       "<div>\n",
       "<style scoped>\n",
       "    .dataframe tbody tr th:only-of-type {\n",
       "        vertical-align: middle;\n",
       "    }\n",
       "\n",
       "    .dataframe tbody tr th {\n",
       "        vertical-align: top;\n",
       "    }\n",
       "\n",
       "    .dataframe thead th {\n",
       "        text-align: right;\n",
       "    }\n",
       "</style>\n",
       "<table border=\"1\" class=\"dataframe\">\n",
       "  <thead>\n",
       "    <tr style=\"text-align: right;\">\n",
       "      <th></th>\n",
       "      <th>y</th>\n",
       "      <th>x1</th>\n",
       "      <th>x2</th>\n",
       "      <th>x3</th>\n",
       "      <th>x4</th>\n",
       "      <th>x5</th>\n",
       "    </tr>\n",
       "  </thead>\n",
       "  <tbody>\n",
       "    <tr>\n",
       "      <th>count</th>\n",
       "      <td>58.000000</td>\n",
       "      <td>58.000000</td>\n",
       "      <td>58.000000</td>\n",
       "      <td>58.000000</td>\n",
       "      <td>58.000000</td>\n",
       "      <td>58.000000</td>\n",
       "    </tr>\n",
       "    <tr>\n",
       "      <th>mean</th>\n",
       "      <td>0.637931</td>\n",
       "      <td>16.327586</td>\n",
       "      <td>10.327931</td>\n",
       "      <td>7.141379</td>\n",
       "      <td>2.344828</td>\n",
       "      <td>45.135000</td>\n",
       "    </tr>\n",
       "    <tr>\n",
       "      <th>std</th>\n",
       "      <td>0.484796</td>\n",
       "      <td>3.213939</td>\n",
       "      <td>3.957742</td>\n",
       "      <td>3.749343</td>\n",
       "      <td>0.928151</td>\n",
       "      <td>53.956171</td>\n",
       "    </tr>\n",
       "    <tr>\n",
       "      <th>min</th>\n",
       "      <td>0.000000</td>\n",
       "      <td>11.000000</td>\n",
       "      <td>3.300000</td>\n",
       "      <td>1.000000</td>\n",
       "      <td>1.000000</td>\n",
       "      <td>0.800000</td>\n",
       "    </tr>\n",
       "    <tr>\n",
       "      <th>25%</th>\n",
       "      <td>0.000000</td>\n",
       "      <td>14.000000</td>\n",
       "      <td>6.375000</td>\n",
       "      <td>3.985000</td>\n",
       "      <td>1.000000</td>\n",
       "      <td>22.115000</td>\n",
       "    </tr>\n",
       "    <tr>\n",
       "      <th>50%</th>\n",
       "      <td>1.000000</td>\n",
       "      <td>16.000000</td>\n",
       "      <td>10.450000</td>\n",
       "      <td>6.835000</td>\n",
       "      <td>3.000000</td>\n",
       "      <td>38.935000</td>\n",
       "    </tr>\n",
       "    <tr>\n",
       "      <th>75%</th>\n",
       "      <td>1.000000</td>\n",
       "      <td>19.000000</td>\n",
       "      <td>13.400000</td>\n",
       "      <td>9.975000</td>\n",
       "      <td>3.000000</td>\n",
       "      <td>53.125000</td>\n",
       "    </tr>\n",
       "    <tr>\n",
       "      <th>max</th>\n",
       "      <td>1.000000</td>\n",
       "      <td>27.000000</td>\n",
       "      <td>19.000000</td>\n",
       "      <td>16.000000</td>\n",
       "      <td>3.000000</td>\n",
       "      <td>399.800000</td>\n",
       "    </tr>\n",
       "  </tbody>\n",
       "</table>\n",
       "</div>"
      ],
      "text/plain": [
       "               y         x1         x2         x3         x4          x5\n",
       "count  58.000000  58.000000  58.000000  58.000000  58.000000   58.000000\n",
       "mean    0.637931  16.327586  10.327931   7.141379   2.344828   45.135000\n",
       "std     0.484796   3.213939   3.957742   3.749343   0.928151   53.956171\n",
       "min     0.000000  11.000000   3.300000   1.000000   1.000000    0.800000\n",
       "25%     0.000000  14.000000   6.375000   3.985000   1.000000   22.115000\n",
       "50%     1.000000  16.000000  10.450000   6.835000   3.000000   38.935000\n",
       "75%     1.000000  19.000000  13.400000   9.975000   3.000000   53.125000\n",
       "max     1.000000  27.000000  19.000000  16.000000   3.000000  399.800000"
      ]
     },
     "execution_count": 24,
     "metadata": {},
     "output_type": "execute_result"
    }
   ],
   "source": [
    "data.describe()"
   ]
  },
  {
   "cell_type": "markdown",
   "metadata": {},
   "source": [
    "### Анализ данных и построение моделей"
   ]
  },
  {
   "cell_type": "code",
   "execution_count": 5,
   "metadata": {},
   "outputs": [],
   "source": [
    "df = data.copy(deep=True)\n",
    "\n",
    "df[\"y\"] = pd.Categorical(df[\"y\"])"
   ]
  },
  {
   "cell_type": "code",
   "execution_count": 26,
   "metadata": {},
   "outputs": [
    {
     "data": {
      "text/html": [
       "<div>\n",
       "<style scoped>\n",
       "    .dataframe tbody tr th:only-of-type {\n",
       "        vertical-align: middle;\n",
       "    }\n",
       "\n",
       "    .dataframe tbody tr th {\n",
       "        vertical-align: top;\n",
       "    }\n",
       "\n",
       "    .dataframe thead th {\n",
       "        text-align: right;\n",
       "    }\n",
       "</style>\n",
       "<table border=\"1\" class=\"dataframe\">\n",
       "  <thead>\n",
       "    <tr style=\"text-align: right;\">\n",
       "      <th></th>\n",
       "      <th>y</th>\n",
       "    </tr>\n",
       "  </thead>\n",
       "  <tbody>\n",
       "    <tr>\n",
       "      <th>count</th>\n",
       "      <td>58</td>\n",
       "    </tr>\n",
       "    <tr>\n",
       "      <th>unique</th>\n",
       "      <td>2</td>\n",
       "    </tr>\n",
       "    <tr>\n",
       "      <th>top</th>\n",
       "      <td>1</td>\n",
       "    </tr>\n",
       "    <tr>\n",
       "      <th>freq</th>\n",
       "      <td>37</td>\n",
       "    </tr>\n",
       "  </tbody>\n",
       "</table>\n",
       "</div>"
      ],
      "text/plain": [
       "         y\n",
       "count   58\n",
       "unique   2\n",
       "top      1\n",
       "freq    37"
      ]
     },
     "execution_count": 26,
     "metadata": {},
     "output_type": "execute_result"
    }
   ],
   "source": [
    "df.describe(include=[\"category\"])"
   ]
  },
  {
   "cell_type": "code",
   "execution_count": 6,
   "metadata": {},
   "outputs": [],
   "source": [
    "X = df.drop(columns=['y'], axis=1)\n",
    "y = df['y']"
   ]
  },
  {
   "cell_type": "code",
   "execution_count": 7,
   "metadata": {},
   "outputs": [
    {
     "name": "stdout",
     "output_type": "stream",
     "text": [
      "Optimization terminated successfully.\n",
      "         Current function value: 0.341788\n",
      "         Iterations 8\n",
      "Model accuracy: 0.896551724137931\n"
     ]
    },
    {
     "data": {
      "text/plain": [
       "const   -10.942\n",
       "x1        0.455\n",
       "x2        0.809\n",
       "x3       -0.356\n",
       "x4        0.126\n",
       "x5       -0.032\n",
       "dtype: float64"
      ]
     },
     "execution_count": 7,
     "metadata": {},
     "output_type": "execute_result"
    }
   ],
   "source": [
    "X = sm.add_constant(X)\n",
    "\n",
    "# Training the logistic regression model on the training data\n",
    "model = sm.Logit(y, X).fit()\n",
    "\n",
    "y_pred = model.predict(X)\n",
    "y_pred_binary = [1 if x > 0.5 else 0 for x in y_pred]  # Converting probabilities to binary classes\n",
    "\n",
    "# Evaluating the model's performance\n",
    "accuracy = accuracy_score(y, y_pred_binary)\n",
    "\n",
    "print(f\"Model accuracy: {accuracy}\")\n",
    "coeff = round(model.params, 3)\n",
    "coeff"
   ]
  },
  {
   "cell_type": "code",
   "execution_count": 8,
   "metadata": {},
   "outputs": [
    {
     "data": {
      "text/html": [
       "<table class=\"simpletable\">\n",
       "<caption>Logit Regression Results</caption>\n",
       "<tr>\n",
       "  <th>Dep. Variable:</th>           <td>y</td>        <th>  No. Observations:  </th>  <td>    58</td>  \n",
       "</tr>\n",
       "<tr>\n",
       "  <th>Model:</th>                 <td>Logit</td>      <th>  Df Residuals:      </th>  <td>    52</td>  \n",
       "</tr>\n",
       "<tr>\n",
       "  <th>Method:</th>                 <td>MLE</td>       <th>  Df Model:          </th>  <td>     5</td>  \n",
       "</tr>\n",
       "<tr>\n",
       "  <th>Date:</th>            <td>Mon, 18 Nov 2024</td> <th>  Pseudo R-squ.:     </th>  <td>0.4779</td>  \n",
       "</tr>\n",
       "<tr>\n",
       "  <th>Time:</th>                <td>00:02:24</td>     <th>  Log-Likelihood:    </th> <td> -19.824</td> \n",
       "</tr>\n",
       "<tr>\n",
       "  <th>converged:</th>             <td>True</td>       <th>  LL-Null:           </th> <td> -37.967</td> \n",
       "</tr>\n",
       "<tr>\n",
       "  <th>Covariance Type:</th>     <td>nonrobust</td>    <th>  LLR p-value:       </th> <td>8.325e-07</td>\n",
       "</tr>\n",
       "</table>\n",
       "<table class=\"simpletable\">\n",
       "<tr>\n",
       "    <td></td>       <th>coef</th>     <th>std err</th>      <th>z</th>      <th>P>|z|</th>  <th>[0.025</th>    <th>0.975]</th>  \n",
       "</tr>\n",
       "<tr>\n",
       "  <th>const</th> <td>  -10.9423</td> <td>    3.871</td> <td>   -2.827</td> <td> 0.005</td> <td>  -18.529</td> <td>   -3.356</td>\n",
       "</tr>\n",
       "<tr>\n",
       "  <th>x1</th>    <td>    0.4555</td> <td>    0.180</td> <td>    2.529</td> <td> 0.011</td> <td>    0.102</td> <td>    0.809</td>\n",
       "</tr>\n",
       "<tr>\n",
       "  <th>x2</th>    <td>    0.8085</td> <td>    0.436</td> <td>    1.855</td> <td> 0.064</td> <td>   -0.046</td> <td>    1.663</td>\n",
       "</tr>\n",
       "<tr>\n",
       "  <th>x3</th>    <td>   -0.3559</td> <td>    0.418</td> <td>   -0.852</td> <td> 0.394</td> <td>   -1.175</td> <td>    0.463</td>\n",
       "</tr>\n",
       "<tr>\n",
       "  <th>x4</th>    <td>    0.1262</td> <td>    0.422</td> <td>    0.299</td> <td> 0.765</td> <td>   -0.701</td> <td>    0.954</td>\n",
       "</tr>\n",
       "<tr>\n",
       "  <th>x5</th>    <td>   -0.0319</td> <td>    0.020</td> <td>   -1.605</td> <td> 0.109</td> <td>   -0.071</td> <td>    0.007</td>\n",
       "</tr>\n",
       "</table>"
      ],
      "text/latex": [
       "\\begin{center}\n",
       "\\begin{tabular}{lclc}\n",
       "\\toprule\n",
       "\\textbf{Dep. Variable:}   &        y         & \\textbf{  No. Observations:  } &       58    \\\\\n",
       "\\textbf{Model:}           &      Logit       & \\textbf{  Df Residuals:      } &       52    \\\\\n",
       "\\textbf{Method:}          &       MLE        & \\textbf{  Df Model:          } &        5    \\\\\n",
       "\\textbf{Date:}            & Mon, 18 Nov 2024 & \\textbf{  Pseudo R-squ.:     } &   0.4779    \\\\\n",
       "\\textbf{Time:}            &     00:02:24     & \\textbf{  Log-Likelihood:    } &   -19.824   \\\\\n",
       "\\textbf{converged:}       &       True       & \\textbf{  LL-Null:           } &   -37.967   \\\\\n",
       "\\textbf{Covariance Type:} &    nonrobust     & \\textbf{  LLR p-value:       } & 8.325e-07   \\\\\n",
       "\\bottomrule\n",
       "\\end{tabular}\n",
       "\\begin{tabular}{lcccccc}\n",
       "               & \\textbf{coef} & \\textbf{std err} & \\textbf{z} & \\textbf{P$> |$z$|$} & \\textbf{[0.025} & \\textbf{0.975]}  \\\\\n",
       "\\midrule\n",
       "\\textbf{const} &     -10.9423  &        3.871     &    -2.827  &         0.005        &      -18.529    &       -3.356     \\\\\n",
       "\\textbf{x1}    &       0.4555  &        0.180     &     2.529  &         0.011        &        0.102    &        0.809     \\\\\n",
       "\\textbf{x2}    &       0.8085  &        0.436     &     1.855  &         0.064        &       -0.046    &        1.663     \\\\\n",
       "\\textbf{x3}    &      -0.3559  &        0.418     &    -0.852  &         0.394        &       -1.175    &        0.463     \\\\\n",
       "\\textbf{x4}    &       0.1262  &        0.422     &     0.299  &         0.765        &       -0.701    &        0.954     \\\\\n",
       "\\textbf{x5}    &      -0.0319  &        0.020     &    -1.605  &         0.109        &       -0.071    &        0.007     \\\\\n",
       "\\bottomrule\n",
       "\\end{tabular}\n",
       "%\\caption{Logit Regression Results}\n",
       "\\end{center}"
      ],
      "text/plain": [
       "<class 'statsmodels.iolib.summary.Summary'>\n",
       "\"\"\"\n",
       "                           Logit Regression Results                           \n",
       "==============================================================================\n",
       "Dep. Variable:                      y   No. Observations:                   58\n",
       "Model:                          Logit   Df Residuals:                       52\n",
       "Method:                           MLE   Df Model:                            5\n",
       "Date:                Mon, 18 Nov 2024   Pseudo R-squ.:                  0.4779\n",
       "Time:                        00:02:24   Log-Likelihood:                -19.824\n",
       "converged:                       True   LL-Null:                       -37.967\n",
       "Covariance Type:            nonrobust   LLR p-value:                 8.325e-07\n",
       "==============================================================================\n",
       "                 coef    std err          z      P>|z|      [0.025      0.975]\n",
       "------------------------------------------------------------------------------\n",
       "const        -10.9423      3.871     -2.827      0.005     -18.529      -3.356\n",
       "x1             0.4555      0.180      2.529      0.011       0.102       0.809\n",
       "x2             0.8085      0.436      1.855      0.064      -0.046       1.663\n",
       "x3            -0.3559      0.418     -0.852      0.394      -1.175       0.463\n",
       "x4             0.1262      0.422      0.299      0.765      -0.701       0.954\n",
       "x5            -0.0319      0.020     -1.605      0.109      -0.071       0.007\n",
       "==============================================================================\n",
       "\"\"\""
      ]
     },
     "execution_count": 8,
     "metadata": {},
     "output_type": "execute_result"
    }
   ],
   "source": [
    "model.summary()"
   ]
  },
  {
   "cell_type": "markdown",
   "metadata": {},
   "source": [
    "$$\n",
    "logit(p)= -10.942 + 0.455x_1 + 0.809x_2 - 0.356x_3 + 0.126x_4 - 0.032x_5\n",
    "$$"
   ]
  },
  {
   "cell_type": "code",
   "execution_count": 30,
   "metadata": {},
   "outputs": [
    {
     "name": "stdout",
     "output_type": "stream",
     "text": [
      "Значения p для каждого коэффициента:\n",
      "const    0.024391\n",
      "x1       0.011451\n",
      "x2       0.063629\n",
      "x3       0.394305\n",
      "x4       0.765029\n",
      "x5       0.108591\n",
      "dtype: float64\n"
     ]
    }
   ],
   "source": [
    "p_values = model.pvalues\n",
    "print(\"Значения p для каждого коэффициента:\")\n",
    "print(p_values)"
   ]
  },
  {
   "cell_type": "code",
   "execution_count": 31,
   "metadata": {},
   "outputs": [
    {
     "data": {
      "text/plain": [
       "<class 'statsmodels.stats.contrast.WaldTestResults'>\n",
       "           chi2    P>chi2  df constraint\n",
       "const  5.066606  0.024391              1\n",
       "x1     6.393987  0.011451              1\n",
       "x2     3.440181  0.063629              1\n",
       "x3     0.725626  0.394305              1\n",
       "x4     0.089331  0.765029              1\n",
       "x5     2.574608  0.108591              1"
      ]
     },
     "execution_count": 31,
     "metadata": {},
     "output_type": "execute_result"
    }
   ],
   "source": [
    "model.wald_test_terms(scalar=True)"
   ]
  },
  {
   "cell_type": "code",
   "execution_count": 32,
   "metadata": {},
   "outputs": [
    {
     "data": {
      "text/plain": [
       "<class 'statsmodels.stats.contrast.ContrastResults'>\n",
       "<Wald test (chi2): statistic=13.100892445653392, p-value=0.022451419971989618, df_denom=5>"
      ]
     },
     "execution_count": 32,
     "metadata": {},
     "output_type": "execute_result"
    }
   ],
   "source": [
    "wald_stat = model.wald_test(\"(x1=0, x2=0, x3=0, x4=0, x5=0)\", scalar=True)\n",
    "wald_stat"
   ]
  },
  {
   "cell_type": "markdown",
   "metadata": {},
   "source": [
    "Если рассмотреть значения p-value, то можно сделать вывод, что значимыми являются только свободный член и $x_1$. Также по тесту Вальда можно сделать вывод, что модель значима в целом т.к p-value < 0.05. Стоит заметить, что в данном случае нельзя опираться на этот тест, ибо он применим к большим выборкам"
   ]
  },
  {
   "cell_type": "code",
   "execution_count": 33,
   "metadata": {},
   "outputs": [
    {
     "name": "stdout",
     "output_type": "stream",
     "text": [
      "Likelihood Ratio Test for overall model significance:\n",
      "Statistic: 36.28609, p-value: 8.3e-07\n"
     ]
    }
   ],
   "source": [
    "lr_stat = model.llr\n",
    "lr_pvalue = model.llr_pvalue\n",
    "print(\"Likelihood Ratio Test for overall model significance:\")\n",
    "print(f\"Statistic: {round(lr_stat, 5)}, p-value: {round(lr_pvalue, 8)}\")"
   ]
  },
  {
   "cell_type": "markdown",
   "metadata": {},
   "source": [
    "p-value < 0.05 => модель значима в целом"
   ]
  },
  {
   "cell_type": "code",
   "execution_count": 34,
   "metadata": {},
   "outputs": [
    {
     "data": {
      "text/html": [
       "<div>\n",
       "<style scoped>\n",
       "    .dataframe tbody tr th:only-of-type {\n",
       "        vertical-align: middle;\n",
       "    }\n",
       "\n",
       "    .dataframe tbody tr th {\n",
       "        vertical-align: top;\n",
       "    }\n",
       "\n",
       "    .dataframe thead th {\n",
       "        text-align: right;\n",
       "    }\n",
       "</style>\n",
       "<table border=\"1\" class=\"dataframe\">\n",
       "  <thead>\n",
       "    <tr style=\"text-align: right;\">\n",
       "      <th></th>\n",
       "      <th>[0.025</th>\n",
       "      <th>0.975]</th>\n",
       "    </tr>\n",
       "  </thead>\n",
       "  <tbody>\n",
       "    <tr>\n",
       "      <th>const</th>\n",
       "      <td>0.150116</td>\n",
       "      <td>2.172625</td>\n",
       "    </tr>\n",
       "    <tr>\n",
       "      <th>x1</th>\n",
       "      <td>0.326358</td>\n",
       "      <td>2.575997</td>\n",
       "    </tr>\n",
       "    <tr>\n",
       "      <th>x2</th>\n",
       "      <td>-0.179907</td>\n",
       "      <td>6.524272</td>\n",
       "    </tr>\n",
       "    <tr>\n",
       "      <th>x3</th>\n",
       "      <td>-4.366293</td>\n",
       "      <td>1.720750</td>\n",
       "    </tr>\n",
       "    <tr>\n",
       "      <th>x4</th>\n",
       "      <td>-0.645323</td>\n",
       "      <td>0.877554</td>\n",
       "    </tr>\n",
       "    <tr>\n",
       "      <th>x5</th>\n",
       "      <td>-3.785165</td>\n",
       "      <td>0.377405</td>\n",
       "    </tr>\n",
       "  </tbody>\n",
       "</table>\n",
       "</div>"
      ],
      "text/plain": [
       "         [0.025    0.975]\n",
       "const  0.150116  2.172625\n",
       "x1     0.326358  2.575997\n",
       "x2    -0.179907  6.524272\n",
       "x3    -4.366293  1.720750\n",
       "x4    -0.645323  0.877554\n",
       "x5    -3.785165  0.377405"
      ]
     },
     "execution_count": 34,
     "metadata": {},
     "output_type": "execute_result"
    }
   ],
   "source": [
    "conf_intervals = model.conf_int()\n",
    "conf_intervals.columns = [\"[0.025\", \"0.975]\"]\n",
    "conf_intervals"
   ]
  },
  {
   "cell_type": "markdown",
   "metadata": {},
   "source": [
    "Также значимыми коэффициентами являются только свободный член и $x_1$"
   ]
  },
  {
   "cell_type": "markdown",
   "metadata": {},
   "source": [
    "**Замечание:** стоит отметить что для обоих моделей, если удалить $x_2$, точность падает довольно сильно"
   ]
  },
  {
   "cell_type": "code",
   "execution_count": 35,
   "metadata": {},
   "outputs": [
    {
     "name": "stdout",
     "output_type": "stream",
     "text": [
      "Optimization terminated successfully.\n",
      "         Current function value: 0.341788\n",
      "         Iterations 8\n",
      "Optimization terminated successfully.\n",
      "         Current function value: 0.342187\n",
      "         Iterations 7\n"
     ]
    },
    {
     "data": {
      "text/plain": [
       "(0.89655, 0.87931)"
      ]
     },
     "execution_count": 35,
     "metadata": {},
     "output_type": "execute_result"
    }
   ],
   "source": [
    "X_train = X\n",
    "X_train = sm.add_constant(X_train)\n",
    "modelLogit = sm.Logit(y, X_train).fit()\n",
    "modelProbit = sm.Probit(y, X_train).fit()\n",
    "\n",
    "y_logit_pred = modelLogit.predict(X_train)\n",
    "y_logit_pred_binary = [1 if x > 0.5 else 0 for x in y_logit_pred] \n",
    "\n",
    "y_probit_pred = modelProbit.predict(X_train)\n",
    "y_probit_pred_binary = [1 if x > 0.5 else 0 for x in y_probit_pred] \n",
    "\n",
    "accuracyLogit = accuracy_score(y, y_logit_pred_binary)\n",
    "accuracyProbit = accuracy_score(y, y_probit_pred_binary)\n",
    "round(accuracyLogit, 5), round(accuracyProbit, 5)"
   ]
  },
  {
   "cell_type": "code",
   "execution_count": 36,
   "metadata": {},
   "outputs": [
    {
     "name": "stdout",
     "output_type": "stream",
     "text": [
      "Optimization terminated successfully.\n",
      "         Current function value: 0.600556\n",
      "         Iterations 5\n",
      "Optimization terminated successfully.\n",
      "         Current function value: 0.601092\n",
      "         Iterations 5\n"
     ]
    },
    {
     "data": {
      "text/plain": [
       "(0.65517, 0.65517)"
      ]
     },
     "execution_count": 36,
     "metadata": {},
     "output_type": "execute_result"
    }
   ],
   "source": [
    "X_train = X.copy().drop(columns=[\"x2\", \"x3\", \"x4\", \"x5\"])\n",
    "X_train = sm.add_constant(X_train)\n",
    "modelLogit = sm.Logit(y, X_train).fit()\n",
    "modelProbit = sm.Probit(y, X_train).fit()\n",
    "\n",
    "y_logit_pred = modelLogit.predict(X_train)\n",
    "y_logit_pred_binary = [1 if x > 0.5 else 0 for x in y_logit_pred] \n",
    "\n",
    "y_probit_pred = modelProbit.predict(X_train)\n",
    "y_probit_pred_binary = [1 if x > 0.5 else 0 for x in y_probit_pred] \n",
    "\n",
    "accuracyLogit = accuracy_score(y, y_logit_pred_binary)\n",
    "accuracyProbit = accuracy_score(y, y_probit_pred_binary)\n",
    "round(accuracyLogit, 5), round(accuracyProbit, 5)"
   ]
  },
  {
   "cell_type": "code",
   "execution_count": 37,
   "metadata": {},
   "outputs": [
    {
     "name": "stdout",
     "output_type": "stream",
     "text": [
      "Optimization terminated successfully.\n",
      "         Current function value: 0.415948\n",
      "         Iterations 7\n",
      "Optimization terminated successfully.\n",
      "         Current function value: 0.419247\n",
      "         Iterations 6\n"
     ]
    },
    {
     "data": {
      "text/plain": [
       "(0.86207, 0.86207)"
      ]
     },
     "execution_count": 37,
     "metadata": {},
     "output_type": "execute_result"
    }
   ],
   "source": [
    "X_train = X.copy().drop(columns=[\"x3\", \"x4\", \"x5\"])\n",
    "X_train = sm.add_constant(X_train)\n",
    "modelLogit = sm.Logit(y, X_train).fit()\n",
    "modelProbit = sm.Probit(y, X_train).fit()\n",
    "\n",
    "y_logit_pred = modelLogit.predict(X_train)\n",
    "y_logit_pred_binary = [1 if x > 0.5 else 0 for x in y_logit_pred] \n",
    "\n",
    "y_probit_pred = modelProbit.predict(X_train)\n",
    "y_probit_pred_binary = [1 if x > 0.5 else 0 for x in y_probit_pred] \n",
    "\n",
    "accuracyLogit = accuracy_score(y, y_logit_pred_binary)\n",
    "accuracyProbit = accuracy_score(y, y_probit_pred_binary)\n",
    "round(accuracyLogit, 5), round(accuracyProbit, 5)"
   ]
  },
  {
   "cell_type": "code",
   "execution_count": 38,
   "metadata": {},
   "outputs": [
    {
     "data": {
      "text/plain": [
       "(np.float64(54.63263586083632), np.float64(54.24995008092664))"
      ]
     },
     "execution_count": 38,
     "metadata": {},
     "output_type": "execute_result"
    }
   ],
   "source": [
    "modelProbit.aic, modelLogit.aic"
   ]
  },
  {
   "cell_type": "markdown",
   "metadata": {},
   "source": [
    "aic у обоих моделей почти одинаков => нет особой разницы в их использовании"
   ]
  },
  {
   "cell_type": "code",
   "execution_count": 39,
   "metadata": {},
   "outputs": [
    {
     "data": {
      "text/plain": [
       "array([[17,  4],\n",
       "       [ 4, 33]])"
      ]
     },
     "execution_count": 39,
     "metadata": {},
     "output_type": "execute_result"
    }
   ],
   "source": [
    "confusion_matrix(y, y_logit_pred_binary)"
   ]
  },
  {
   "cell_type": "code",
   "execution_count": 40,
   "metadata": {},
   "outputs": [
    {
     "data": {
      "text/plain": [
       "array([[17,  4],\n",
       "       [ 4, 33]])"
      ]
     },
     "execution_count": 40,
     "metadata": {},
     "output_type": "execute_result"
    }
   ],
   "source": [
    "confusion_matrix(y, y_probit_pred_binary)"
   ]
  },
  {
   "cell_type": "markdown",
   "metadata": {},
   "source": [
    "Можно сделать вывод, что модель ошибкается не очень часто"
   ]
  },
  {
   "cell_type": "code",
   "execution_count": 41,
   "metadata": {},
   "outputs": [
    {
     "data": {
      "text/html": [
       "<div>\n",
       "<style scoped>\n",
       "    .dataframe tbody tr th:only-of-type {\n",
       "        vertical-align: middle;\n",
       "    }\n",
       "\n",
       "    .dataframe tbody tr th {\n",
       "        vertical-align: top;\n",
       "    }\n",
       "\n",
       "    .dataframe thead th {\n",
       "        text-align: right;\n",
       "    }\n",
       "</style>\n",
       "<table border=\"1\" class=\"dataframe\">\n",
       "  <thead>\n",
       "    <tr style=\"text-align: right;\">\n",
       "      <th></th>\n",
       "      <th>sensitivity</th>\n",
       "      <th>specificity</th>\n",
       "    </tr>\n",
       "  </thead>\n",
       "  <tbody>\n",
       "    <tr>\n",
       "      <th>logit</th>\n",
       "      <td>0.891892</td>\n",
       "      <td>0.809524</td>\n",
       "    </tr>\n",
       "    <tr>\n",
       "      <th>probit</th>\n",
       "      <td>0.891892</td>\n",
       "      <td>0.809524</td>\n",
       "    </tr>\n",
       "  </tbody>\n",
       "</table>\n",
       "</div>"
      ],
      "text/plain": [
       "        sensitivity  specificity\n",
       "logit      0.891892     0.809524\n",
       "probit     0.891892     0.809524"
      ]
     },
     "execution_count": 41,
     "metadata": {},
     "output_type": "execute_result"
    }
   ],
   "source": [
    "def sensitivity(y_true, y_pred_binary):\n",
    "    cm = confusion_matrix(y_true, y_pred_binary)\n",
    "    TP = cm[1, 1]\n",
    "    FN = cm[1, 0]\n",
    "    return TP / (TP + FN)\n",
    "\n",
    "# Function to calculate specificity\n",
    "def specificity(y_true, y_pred_binary):\n",
    "    cm = confusion_matrix(y_true, y_pred_binary)\n",
    "    TN = cm[0, 0]\n",
    "    FP = cm[0, 1]\n",
    "    return TN / (TN + FP)\n",
    "\n",
    "sensivity_logit = sensitivity(y, y_logit_pred_binary)\n",
    "specificity_logit = specificity(y, y_logit_pred_binary)\n",
    "\n",
    "sensivity_probit = sensitivity(y, y_probit_pred_binary)\n",
    "specificity_probit = specificity(y, y_probit_pred_binary)\n",
    "\n",
    "result = pd.DataFrame(\n",
    "    {\n",
    "        'sensitivity': [sensivity_logit, sensivity_probit],\n",
    "        'specificity': [specificity_logit, specificity_probit]\n",
    "    },\n",
    "    index=['logit', 'probit']\n",
    ")\n",
    "\n",
    "result"
   ]
  },
  {
   "cell_type": "markdown",
   "metadata": {},
   "source": [
    "При попытке подбора самостоятельного подбора p, выяснилось, что наилучшее значение accurancy, AUC достигается при 0.5. Из этого можно сделать вывод, что оно уже являестя достаточно хорошим. Это подтвержают и графики ниже"
   ]
  },
  {
   "cell_type": "code",
   "execution_count": 42,
   "metadata": {},
   "outputs": [
    {
     "data": {
      "image/png": "[encoded data removed]",
      "text/plain": [
       "<Figure size 1000x600 with 1 Axes>"
      ]
     },
     "metadata": {},
     "output_type": "display_data"
    },
    {
     "data": {
      "image/png": "[encoded data removed]",
      "text/plain": [
       "<Figure size 1000x600 with 1 Axes>"
      ]
     },
     "metadata": {},
     "output_type": "display_data"
    }
   ],
   "source": [
    "\n",
    "def plotROC(y_true, y_scores, model_name):\n",
    "    # Calculate the ROC curve\n",
    "    fpr, tpr, thresholds = roc_curve(y_true, y_scores)\n",
    "    roc_auc = auc(fpr, tpr)\n",
    "\n",
    "    # Plot the ROC curve\n",
    "    plt.figure(figsize=(10, 6))\n",
    "    plt.plot(fpr, tpr, color='blue', label=f'{model_name} (AUC = {roc_auc:.2f})')\n",
    "    plt.plot([0, 1], [0, 1], color='red', linestyle='--')  # Line for random classifier\n",
    "    plt.xlim([0.0, 1.0])\n",
    "    plt.ylim([0.0, 1.05])\n",
    "    plt.xlabel('False Positive Rate (FPR)')\n",
    "    plt.ylabel('True Positive Rate (TPR)')\n",
    "    plt.title(f'ROC Curve for {model_name}')\n",
    "    plt.legend(loc='lower right')\n",
    "    plt.grid()\n",
    "    plt.show()\n",
    "\n",
    "plotROC(y, y_logit_pred_binary, 'Logit Model')\n",
    "\n",
    "plotROC(y, y_logit_pred_binary, 'Probit Model')"
   ]
  },
  {
   "cell_type": "code",
   "execution_count": 43,
   "metadata": {},
   "outputs": [],
   "source": [
    "def stepwise_selection_with_aic(X, y, initial_features):\n",
    "    included = list(initial_features)\n",
    "    best_aic = float('inf')\n",
    "\n",
    "    while True:\n",
    "        changed = False\n",
    "\n",
    "        # Evaluating the current model\n",
    "        X_with_const = sm.add_constant(X[included])\n",
    "        model = sm.OLS(y, X_with_const).fit()\n",
    "        current_aic = model.aic\n",
    "\n",
    "        # Check for removal of features\n",
    "        for feature in included:\n",
    "            X_temp = X_with_const.drop(columns=feature)\n",
    "            model_temp = sm.OLS(y, X_temp).fit()\n",
    "            if model_temp.aic < current_aic:\n",
    "                included.remove(feature)\n",
    "                current_aic = model_temp.aic\n",
    "                changed = True\n",
    "                print(f\"Removed {feature} with AIC {model_temp.aic:.4f}\")\n",
    "                break\n",
    "\n",
    "        # Check for addition of features\n",
    "        for feature in X.columns:\n",
    "            if feature not in included:\n",
    "                X_temp = X_with_const.copy()\n",
    "                X_temp[feature] = X[feature]\n",
    "                model_temp = sm.OLS(y, X_temp).fit()\n",
    "                if model_temp.aic < current_aic:\n",
    "                    included.append(feature)\n",
    "                    changed = True\n",
    "                    print(f\"Added {feature} with AIC {model_temp.aic:.4f}\")\n",
    "                    break\n",
    "\n",
    "        if not changed:\n",
    "            break\n",
    "\n",
    "    return included"
   ]
  },
  {
   "cell_type": "code",
   "execution_count": 44,
   "metadata": {},
   "outputs": [
    {
     "name": "stdout",
     "output_type": "stream",
     "text": [
      "Removed x3 with AIC 52.4587\n",
      "Removed x4 with AIC 50.7155\n"
     ]
    }
   ],
   "source": [
    "# Initializing initial features (all features)\n",
    "initial_features = X.columns.tolist()\n",
    "selected_features = stepwise_selection_with_aic(X, y, initial_features)\n",
    "X_clear = sm.add_constant(X[selected_features])"
   ]
  },
  {
   "cell_type": "code",
   "execution_count": 45,
   "metadata": {},
   "outputs": [
    {
     "name": "stdout",
     "output_type": "stream",
     "text": [
      "Optimization terminated successfully.\n",
      "         Current function value: 0.350155\n",
      "         Iterations 7\n",
      "Optimization terminated successfully.\n",
      "         Current function value: 0.351629\n",
      "         Iterations 7\n"
     ]
    },
    {
     "data": {
      "text/plain": [
       "(0.86207, 0.87931)"
      ]
     },
     "execution_count": 45,
     "metadata": {},
     "output_type": "execute_result"
    }
   ],
   "source": [
    "X_train = X_clear\n",
    "X_train = sm.add_constant(X_train)\n",
    "modelLogit = sm.Logit(y, X_train).fit()\n",
    "modelProbit = sm.Probit(y, X_train).fit()\n",
    "\n",
    "y_logit_pred = modelLogit.predict(X_train)\n",
    "y_logit_pred_binary = [1 if x > 0.5 else 0 for x in y_logit_pred] \n",
    "\n",
    "y_probit_pred = modelProbit.predict(X_train)\n",
    "y_probit_pred_binary = [1 if x > 0.5 else 0 for x in y_probit_pred] \n",
    "\n",
    "accuracyLogit = accuracy_score(y, y_logit_pred_binary)\n",
    "accuracyProbit = accuracy_score(y, y_probit_pred_binary)\n",
    "round(accuracyLogit, 5), round(accuracyProbit, 5)"
   ]
  },
  {
   "cell_type": "code",
   "execution_count": 46,
   "metadata": {},
   "outputs": [
    {
     "data": {
      "image/png": "[encoded data removed]",
      "text/plain": [
       "<Figure size 1000x600 with 1 Axes>"
      ]
     },
     "metadata": {},
     "output_type": "display_data"
    },
    {
     "data": {
      "image/png": "[encoded data removed]",
      "text/plain": [
       "<Figure size 1000x600 with 1 Axes>"
      ]
     },
     "metadata": {},
     "output_type": "display_data"
    }
   ],
   "source": [
    "plotROC(y, y_logit_pred_binary, 'Logit Model')\n",
    "\n",
    "plotROC(y, y_logit_pred_binary, 'Probit Model')"
   ]
  },
  {
   "cell_type": "markdown",
   "metadata": {},
   "source": [
    "Если оставить x5 результаты практически не изменятся"
   ]
  }
 ],
 "metadata": {
  "kernelspec": {
   "display_name": "statistic",
   "language": "python",
   "name": "python3"
  },
  "language_info": {
   "codemirror_mode": {
    "name": "ipython",
    "version": 3
   },
   "file_extension": ".py",
   "mimetype": "text/x-python",
   "name": "python",
   "nbconvert_exporter": "python",
   "pygments_lexer": "ipython3",
   "version": "3.13.0"
  }
 },
 "nbformat": 4,
 "nbformat_minor": 2
}
